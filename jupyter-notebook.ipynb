{
 "cells": [
  {
   "cell_type": "markdown",
   "id": "62efc28a",
   "metadata": {},
   "source": [
    "    Install modules"
   ]
  },
  {
   "cell_type": "code",
   "execution_count": null,
   "id": "4e4c7fe0",
   "metadata": {},
   "outputs": [],
   "source": [
    "import geopandas as gpd #gpd for creating geodatabases, tables with geometry data\n",
    "import matplotlib.pyplot as plt \n",
    "import pandas as pd\n",
    "import cartopy.crs as ccrs"
   ]
  },
  {
   "cell_type": "markdown",
   "id": "3397f030",
   "metadata": {},
   "source": [
    "Load crime data data "
   ]
  },
  {
   "cell_type": "code",
   "execution_count": null,
   "id": "8cd1fbf5",
   "metadata": {},
   "outputs": [],
   "source": [
    "crime = gpd.read_file('crimeDataEdit3.csv') #load point data csv\n",
    "crime.crs = 'epsg:27700' #set point crs\n",
    "crime.head #display head of point gdf"
   ]
  },
  {
   "cell_type": "markdown",
   "id": "96c97497",
   "metadata": {},
   "source": [
    "Load parish data"
   ]
  },
  {
   "cell_type": "code",
   "execution_count": null,
   "id": "76db8d9c",
   "metadata": {},
   "outputs": [],
   "source": [
    "parishes = gpd.read_file('parishBound.csv') #load polygon data csv\n",
    "parishes.crs = 'epsg:27700' #set polygon crs\n",
    "parishes.head #display head of polygon gdf"
   ]
  },
  {
   "cell_type": "markdown",
   "id": "34603351",
   "metadata": {},
   "source": [
    "Test gdf have same crs"
   ]
  },
  {
   "cell_type": "code",
   "execution_count": null,
   "id": "f06d81db",
   "metadata": {},
   "outputs": [],
   "source": [
    "print(crime.crs == parishes.crs) #confirm both gdf set to same crs"
   ]
  },
  {
   "cell_type": "markdown",
   "id": "6e242dac",
   "metadata": {},
   "source": [
    "Display gdf layer"
   ]
  },
  {
   "cell_type": "code",
   "execution_count": null,
   "id": "cc732649",
   "metadata": {},
   "outputs": [],
   "source": [
    "f, ax = plt.subplots(1, figsize=(12, 12))\n",
    "ax = parishes.plot(ax=ax, alpha=0.8) #adjust alpha value to change colour intensity\n",
    "#ax.set_axis_off()  #uncomment this line to remove national grid numbers\n",
    "f.suptitle('Suffolk Parishes') #set plot title\n",
    "plt.show() "
   ]
  },
  {
   "cell_type": "markdown",
   "id": "8de7298e",
   "metadata": {},
   "source": [
    "Load a single parish using row number"
   ]
  },
  {
   "cell_type": "code",
   "execution_count": null,
   "id": "a26e7234",
   "metadata": {},
   "outputs": [],
   "source": [
    "parishes.loc[6, 'geometry'] #adjust number to select parish"
   ]
  },
  {
   "cell_type": "markdown",
   "id": "c32f5d3a",
   "metadata": {},
   "source": [
    "Plot data to scattergraph showing grid references. "
   ]
  },
  {
   "cell_type": "code",
   "execution_count": null,
   "id": "3aa75b09",
   "metadata": {},
   "outputs": [],
   "source": [
    "crime.plot(figsize=(12,10)) #display point data with nat grid to check AOI"
   ]
  },
  {
   "cell_type": "markdown",
   "id": "52de63b6",
   "metadata": {},
   "source": [
    "Clip the crime gdf data to the parish gdf so it only shows crimes taking place in Suffolk Parishes"
   ]
  },
  {
   "cell_type": "code",
   "execution_count": null,
   "id": "407e3606",
   "metadata": {},
   "outputs": [],
   "source": [
    "clipped = [] #create an empty list \n",
    "for parish in parishes['Parish'].unique(): #iterate over polygon table for unique instances of a value ['Parish']\n",
    "    tmp_clip = gpd.clip(crime, parishes[parishes['Parish'] == parish]) #clip point data to those which have a matching 'Parish'\n",
    "    clipped.append(tmp_clip) #populate clipped list with points clipped to polygons\n",
    "\n",
    "clipped_gdf = gpd.GeoDataFrame(pd.concat(clipped)) \n",
    "clip_total = clipped_gdf.count()\n",
    "\n",
    "clip_total"
   ]
  },
  {
   "cell_type": "markdown",
   "id": "66a710e6",
   "metadata": {},
   "source": [
    "Rename clipped_gdf to crimes and set CRS to 27700. Display clipped crime scattergraph"
   ]
  },
  {
   "cell_type": "code",
   "execution_count": null,
   "id": "41ee99d7",
   "metadata": {},
   "outputs": [],
   "source": [
    "crimes = clipped_gdf #rename clipped gdf \n",
    "crimes.crs = 'epsg:27700' #set new points gdf crs\n",
    "crimes.plot(figsize=(12,10)); #display new point plot to confirm contained to AOI"
   ]
  },
  {
   "cell_type": "markdown",
   "id": "6e3b7b8b",
   "metadata": {},
   "source": [
    "Plot clipped crime points over parish map"
   ]
  },
  {
   "cell_type": "code",
   "execution_count": null,
   "id": "56d9a391",
   "metadata": {},
   "outputs": [],
   "source": [
    "base = parishes.plot(figsize = (20,18), color='white', edgecolor='black') #use polygon layer as a base\n",
    "\n",
    "crimes.plot(ax=base, marker='d', color='blue', markersize=5) #display point layer on top of base"
   ]
  },
  {
   "cell_type": "markdown",
   "id": "9e480347",
   "metadata": {},
   "source": [
    "Join the two tables, crimes and parish"
   ]
  },
  {
   "cell_type": "code",
   "execution_count": null,
   "id": "8a5ffee9",
   "metadata": {},
   "outputs": [],
   "source": [
    "join = gpd.sjoin(parishes, crimes, how='inner', lsuffix='left', rsuffix='right') #perform the spatial join\n",
    "join # show the joined table"
   ]
  },
  {
   "cell_type": "markdown",
   "id": "52462981",
   "metadata": {},
   "source": [
    "Select crime type by parish."
   ]
  },
  {
   "cell_type": "code",
   "execution_count": null,
   "id": "b9d7e932",
   "metadata": {},
   "outputs": [],
   "source": [
    "crime_stats = join.groupby(['Parish', 'Crime_type']).count()\n",
    "print(crime_stats.loc['Sproughton CP']) #Edit to select parish of interest"
   ]
  },
  {
   "cell_type": "markdown",
   "id": "2792bbc1",
   "metadata": {},
   "source": [
    "Display the overall number of crimes per parish"
   ]
  },
  {
   "cell_type": "code",
   "execution_count": null,
   "id": "a93ea7d3",
   "metadata": {},
   "outputs": [],
   "source": [
    "print(join.groupby(['Parish'])['Crime_type'].count()) #count number of crimes per parish"
   ]
  },
  {
   "cell_type": "markdown",
   "id": "5963964c",
   "metadata": {},
   "source": [
    "Generate hexbin map "
   ]
  },
  {
   "cell_type": "code",
   "execution_count": null,
   "id": "0153ac59",
   "metadata": {},
   "outputs": [],
   "source": [
    "#adapted from https://geographicdata.science/book/notebooks/08_point_pattern_analysis.html\n",
    "\n",
    "f, ax = plt.subplots(1, figsize=(12, 10))\n",
    "\n",
    "hb = ax.hexbin(\n",
    "    crimes['X'], \n",
    "    crimes['Y'],\n",
    "    gridsize=50, # Generate and add hexbin with 50 hexagons in each\n",
    "    linewidths=0,\n",
    "    alpha=1, #edit value from 0 - 1 to increase intensity\n",
    "    cmap='Reds' #Colour ramp to use \n",
    ")\n",
    "\n",
    "# Add colorbar\n",
    "plt.colorbar(hb)\n",
    "# Remove axes\n",
    "ax.set_axis_off()"
   ]
  },
  {
   "cell_type": "markdown",
   "id": "ed766dda",
   "metadata": {},
   "source": [
    "Generate Choropleth map of crimes report by parish\n",
    "\n",
    "Some of this may be an unneccesary repeat of an existing join"
   ]
  },
  {
   "cell_type": "code",
   "execution_count": null,
   "id": "2a5cce37",
   "metadata": {},
   "outputs": [],
   "source": [
    "# adapted from https://gis.stackexchange.com/questions/397876/how-can-i-create-a-choropleth-by-combining-a-polygon-geopanda-with-a-point-geopa\n",
    "\n",
    "polygons = parishes\n",
    "polygon_id_field = 'OBJECTID'\n",
    "#points = crimes #\n",
    "#points.crs = 'epsg:27700'\n",
    "\n",
    "join = gpd.sjoin(parishes, crimes, how='left', predicate='contains')\n",
    "count = join.groupby(polygon_id_field)[polygon_id_field].count()\n",
    "count.name='pointcount'\n",
    "polygons = pd.merge(left=polygons, right=count, left_on=polygon_id_field, right_index=True)\n",
    "\n",
    "fig, ax = plt.subplots(figsize = (20,18))\n",
    "polygons.plot(column = 'pointcount', cmap = 'Spectral_r', ax=ax, legend=True, #for different colour palettes edit cmap value\n",
    "              legend_kwds={'label':'Number of crimes reported'})\n",
    "polygons.geometry.boundary.plot(color=None, edgecolor='k',linewidth = 0, ax=ax)\n"
   ]
  },
  {
   "cell_type": "markdown",
   "id": "74ffd187",
   "metadata": {},
   "source": [
    "Reproduce Parish map, clipped crimes map, and choropleth map."
   ]
  },
  {
   "cell_type": "code",
   "execution_count": null,
   "id": "98e43362",
   "metadata": {},
   "outputs": [],
   "source": [
    "fig = plt.figure(figsize=(20, 20))\n",
    "ax1 = plt.subplot(2, 2, 1, projection=ccrs.Mercator()) # upper left\n",
    "ax2 = plt.subplot(2, 2, 2, projection=ccrs.Mercator()) # upper right\n",
    "ax3 = plt.subplot(2, 2, 3, projection=ccrs.Mercator()) # lower left\n",
    "ax4 = plt.subplot(2, 2, 4, projection=ccrs.Mercator()) # lower right\n",
    "\n",
    "crimes.plot(ax=ax1);\n",
    "\n",
    "parishes.plot(ax=ax2, color='white', edgecolor='black') #use polygon layer as a base\n",
    "crimes.plot(ax=ax2, marker='d', color='blue', markersize=5) #display point layer on top of base\n",
    "\n",
    "hb = ax3.hexbin(crimes['X'], crimes['Y'], gridsize=50, linewidths=0, alpha=1, cmap='Reds')\n",
    "\n",
    "polygons.plot(column = 'pointcount', cmap = 'Spectral_r', ax=ax4, legend=True, legend_kwds={'label':'Number of crimes reported'})\n",
    "polygons.geometry.boundary.plot(color=None, edgecolor='k', linewidth = 0, ax=ax4)\n",
    "\n"
   ]
  },
  {
   "cell_type": "markdown",
   "id": "02426590",
   "metadata": {},
   "source": [
    "And finally, produce an interactive map. Hovering over a ward polygon will show the Ward name and most common crime_type"
   ]
  },
  {
   "cell_type": "code",
   "execution_count": null,
   "id": "eff063c2",
   "metadata": {},
   "outputs": [],
   "source": [
    "#for further interaction in maps see https://towardsdatascience.com/interactive-geographical-maps-with-geopandas-4586a9d7cc10 \n",
    "\n",
    "join.explore(column = 'Crime_type', tooltip=['Ward', 'Crime_type']) \n",
    "#set column to name of column to be used in legend\n",
    "#add or remove column names from tooltip to change what is displayed on hover"
   ]
  }
 ],
 "metadata": {
  "kernelspec": {
   "display_name": "Python 3 (ipykernel)",
   "language": "python",
   "name": "python3"
  },
  "language_info": {
   "codemirror_mode": {
    "name": "ipython",
    "version": 3
   },
   "file_extension": ".py",
   "mimetype": "text/x-python",
   "name": "python",
   "nbconvert_exporter": "python",
   "pygments_lexer": "ipython3",
   "version": "3.8.8"
  }
 },
 "nbformat": 4,
 "nbformat_minor": 5
}
