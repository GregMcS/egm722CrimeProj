{
 "cells": [
  {
   "cell_type": "markdown",
   "id": "62efc28a",
   "metadata": {},
   "source": [
    "    Install modules"
   ]
  },
  {
   "cell_type": "code",
   "execution_count": 69,
   "id": "4e4c7fe0",
   "metadata": {},
   "outputs": [],
   "source": [
    "import rasterio\n",
    "import numpy as np\n",
    "import pandas as pd\n",
    "import numpy.random\n",
    "import matplotlib.pyplot as plt\n",
    "import csv\n",
    "from scipy.ndimage import gaussian_filter\n",
    "\n",
    "from rasterio.plot import show"
   ]
  },
  {
   "cell_type": "markdown",
   "id": "ce630b9e",
   "metadata": {},
   "source": [
    "Load data "
   ]
  },
  {
   "cell_type": "code",
   "execution_count": 70,
   "id": "8e26da60",
   "metadata": {},
   "outputs": [
    {
     "data": {
      "text/plain": [
       "<bound method NDFrame.head of         Month         X          Y                    Crime type\n",
       "0     2022-02  0.908251  52.105755     Criminal damage and arson\n",
       "1     2022-02  0.909954  52.108582     Criminal damage and arson\n",
       "2     2022-02  0.908251  52.105755  Violence and sexual offences\n",
       "3     2022-02  0.906951  52.108225  Violence and sexual offences\n",
       "4     2022-02  0.906951  52.108225  Violence and sexual offences\n",
       "...       ...       ...        ...                           ...\n",
       "4471  2022-02       NaN        NaN  Violence and sexual offences\n",
       "4472  2022-02       NaN        NaN  Violence and sexual offences\n",
       "4473  2022-02       NaN        NaN  Violence and sexual offences\n",
       "4474  2022-02       NaN        NaN  Violence and sexual offences\n",
       "4475  2022-02       NaN        NaN  Violence and sexual offences\n",
       "\n",
       "[4476 rows x 4 columns]>"
      ]
     },
     "execution_count": 70,
     "metadata": {},
     "output_type": "execute_result"
    }
   ],
   "source": [
    "df = pd.read_csv('C:/GIS_Course/EGM_722_Programming_for_GIS/ProjectData/crimeData/2022-02/crimeDataEdit.csv')\n",
    "df.head "
   ]
  },
  {
   "cell_type": "code",
   "execution_count": 75,
   "id": "31811431",
   "metadata": {},
   "outputs": [
    {
     "data": {
      "image/png": "[encoded data removed]",
      "text/plain": [
       "<Figure size 432x288 with 1 Axes>"
      ]
     },
     "metadata": {
      "needs_background": "light"
     },
     "output_type": "display_data"
    },
    {
     "data": {
      "image/png": "[encoded data removed]",
      "text/plain": [
       "<Figure size 432x288 with 1 Axes>"
      ]
     },
     "metadata": {
      "needs_background": "light"
     },
     "output_type": "display_data"
    }
   ],
   "source": [
    "\n",
    "#with open('C:/GIS_Course/EGM_722_Programming_for_GIS/ProjectData/crimeData/2022-02/crimeDataEdit.csv', newline='') as cd:\n",
    "    #reader = csv.reader(cd)\n",
    "    #data = list(reader)\n",
    "\n",
    "#print(data)\n",
    "\n",
    "#cd = open('C:/GIS_Course/EGM_722_Programming_for_GIS/ProjectData/crimeData/2022-02/crimeDataEdit.csv')\n",
    "#reader = csv.reader(cd) #loads the crimeData as cd\n",
    "\n",
    "#header = [] #create empty list called header\n",
    "#header = next(reader) #read column names from cd and add to header\n",
    "#header #show header\n",
    "\n",
    "#rows = [] #create empty list called rows\n",
    "#for row in reader: #iterate over row in cd\n",
    "    #rows.append(row) #add data from cd to rows list\n",
    "#rows #show rows\n",
    "\n",
    "\n",
    "plt.scatter(x=df['X'], y=df['Y']) #plot scatter using csv X,Y columns\n",
    "plt.show() #show plot\n",
    "heatmap, xedges, yedges = np.histogram2d(x, y, bins=(50, 50)) #takes X,Y data and creates a histogram in a 500,650 box\n",
    "extent = [xedges[0], xedges[-1], yedges[0], yedges[-1]] #fixes extent of the heatmap to the extent of the X,Y data\n",
    "\n",
    "plt.clf()\n",
    "plt.imshow(heatmap.T, extent=extent, origin='lower')\n",
    "plt.show()"
   ]
  }
 ],
 "metadata": {
  "kernelspec": {
   "display_name": "Python 3 (ipykernel)",
   "language": "python",
   "name": "python3"
  },
  "language_info": {
   "codemirror_mode": {
    "name": "ipython",
    "version": 3
   },
   "file_extension": ".py",
   "mimetype": "text/x-python",
   "name": "python",
   "nbconvert_exporter": "python",
   "pygments_lexer": "ipython3",
   "version": "3.8.8"
  }
 },
 "nbformat": 4,
 "nbformat_minor": 5
}
