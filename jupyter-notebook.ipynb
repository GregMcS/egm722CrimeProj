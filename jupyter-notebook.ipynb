{
 "cells": [
  {
   "cell_type": "markdown",
   "id": "62efc28a",
   "metadata": {},
   "source": [
    "    Install modules"
   ]
  },
  {
   "cell_type": "code",
   "execution_count": 110,
   "id": "4e4c7fe0",
   "metadata": {},
   "outputs": [],
   "source": [
    "import seaborn\n",
    "import rasterio\n",
    "import numpy as np\n",
    "import pandas as pd\n",
    "import numpy.random\n",
    "import matplotlib.pyplot as plt\n",
    "import matplotlib.cm as cm\n",
    "import csv\n",
    "from scipy.ndimage import gaussian_filter\n",
    "\n",
    "from rasterio.plot import show"
   ]
  },
  {
   "cell_type": "markdown",
   "id": "ff61dd97",
   "metadata": {},
   "source": [
    "Load data "
   ]
  },
  {
   "cell_type": "code",
   "execution_count": 111,
   "id": "4bb7b636",
   "metadata": {},
   "outputs": [
    {
     "data": {
      "text/plain": [
       "<bound method NDFrame.head of         Month         X          Y                    Crime type\n",
       "0     2022-02  0.908251  52.105755     Criminal damage and arson\n",
       "1     2022-02  0.909954  52.108582     Criminal damage and arson\n",
       "2     2022-02  0.908251  52.105755  Violence and sexual offences\n",
       "3     2022-02  0.906951  52.108225  Violence and sexual offences\n",
       "4     2022-02  0.906951  52.108225  Violence and sexual offences\n",
       "...       ...       ...        ...                           ...\n",
       "4471  2022-02       NaN        NaN  Violence and sexual offences\n",
       "4472  2022-02       NaN        NaN  Violence and sexual offences\n",
       "4473  2022-02       NaN        NaN  Violence and sexual offences\n",
       "4474  2022-02       NaN        NaN  Violence and sexual offences\n",
       "4475  2022-02       NaN        NaN  Violence and sexual offences\n",
       "\n",
       "[4476 rows x 4 columns]>"
      ]
     },
     "execution_count": 111,
     "metadata": {},
     "output_type": "execute_result"
    }
   ],
   "source": [
    "df = pd.read_csv('C:/GIS_Course/EGM_722_Programming_for_GIS/ProjectData/crimeData/2022-02/crimeDataEdit.csv')\n",
    "df.head "
   ]
  },
  {
   "cell_type": "markdown",
   "id": "5759e5d1",
   "metadata": {},
   "source": [
    "Plot data to scattergrapgh and heatmap"
   ]
  },
  {
   "cell_type": "code",
   "execution_count": 116,
   "id": "69f883d3",
   "metadata": {},
   "outputs": [
    {
     "data": {
      "image/png": "[encoded data removed]",
      "text/plain": [
       "<Figure size 432x288 with 1 Axes>"
      ]
     },
     "metadata": {
      "needs_background": "light"
     },
     "output_type": "display_data"
    },
    {
     "ename": "TypeError",
     "evalue": "'DataFrame' object is not callable",
     "output_type": "error",
     "traceback": [
      "\u001b[1;31m---------------------------------------------------------------------------\u001b[0m",
      "\u001b[1;31mTypeError\u001b[0m                                 Traceback (most recent call last)",
      "Input \u001b[1;32mIn [116]\u001b[0m, in \u001b[0;36m<cell line: 15>\u001b[1;34m()\u001b[0m\n\u001b[0;32m     18\u001b[0m     ax\u001b[38;5;241m.\u001b[39mset_title(\u001b[38;5;124m\"\u001b[39m\u001b[38;5;124mScatter plot\u001b[39m\u001b[38;5;124m\"\u001b[39m)\n\u001b[0;32m     19\u001b[0m \u001b[38;5;28;01melse\u001b[39;00m:\n\u001b[1;32m---> 20\u001b[0m     img, extent \u001b[38;5;241m=\u001b[39m \u001b[43mdf\u001b[49m\u001b[43m(\u001b[49m\u001b[43m[\u001b[49m\u001b[38;5;124;43m'\u001b[39;49m\u001b[38;5;124;43mX\u001b[39;49m\u001b[38;5;124;43m'\u001b[39;49m\u001b[43m,\u001b[49m\u001b[43m \u001b[49m\u001b[38;5;124;43m'\u001b[39;49m\u001b[38;5;124;43mY\u001b[39;49m\u001b[38;5;124;43m'\u001b[39;49m\u001b[43m]\u001b[49m\u001b[43m)\u001b[49m\n\u001b[0;32m     21\u001b[0m     ax\u001b[38;5;241m.\u001b[39mimshow(img, extent\u001b[38;5;241m=\u001b[39mextent, origin\u001b[38;5;241m=\u001b[39m\u001b[38;5;124m'\u001b[39m\u001b[38;5;124mlower\u001b[39m\u001b[38;5;124m'\u001b[39m, cmap\u001b[38;5;241m=\u001b[39mcm\u001b[38;5;241m.\u001b[39mjet)\n\u001b[0;32m     22\u001b[0m     ax\u001b[38;5;241m.\u001b[39mset_title(\u001b[38;5;124m\"\u001b[39m\u001b[38;5;124mSmoothing with  $\u001b[39m\u001b[38;5;124m\\\u001b[39m\u001b[38;5;124msigma$ = \u001b[39m\u001b[38;5;132;01m%d\u001b[39;00m\u001b[38;5;124m\"\u001b[39m \u001b[38;5;241m%\u001b[39m s)\n",
      "\u001b[1;31mTypeError\u001b[0m: 'DataFrame' object is not callable"
     ]
    },
    {
     "data": {
      "image/png": "[encoded data removed]",
      "text/plain": [
       "<Figure size 432x288 with 4 Axes>"
      ]
     },
     "metadata": {
      "needs_background": "light"
     },
     "output_type": "display_data"
    }
   ],
   "source": [
    "methods = [None, 'none', 'nearest', 'bilinear', 'bicubic', 'spline16',\n",
    "           'spline36', 'hanning', 'hamming', 'hermite', 'kaiser', 'quadric',\n",
    "           'catrom', 'gaussian', 'bessel', 'mitchell', 'sinc', 'lanczos']\n",
    "\n",
    "plt.scatter(x=df['X'], y=df['Y']) #plot scatter using csv X,Y columns\n",
    "plt.show() #show plot\n",
    "\n",
    "fig, axs = plt.subplots(2, 2)\n",
    "\n",
    "x = df['X']\n",
    "y = df['Y']\n",
    "\n",
    "sigmas = [0, 16, 32, 64]\n",
    "\n",
    "for ax, s in zip(axs.flatten(), sigmas):\n",
    "    if s == 0:\n",
    "        ax.plot(x, y, 'k.', markersize=5)\n",
    "        ax.set_title(\"Scatter plot\")\n",
    "    else:\n",
    "        img, extent = df(['X', 'Y'])\n",
    "        ax.imshow(img, extent=extent, origin='lower', cmap=cm.jet)\n",
    "        ax.set_title(\"Smoothing with  $\\sigma$ = %d\" % s)\n",
    "\n",
    "plt.show()\n"
   ]
  }
 ],
 "metadata": {
  "kernelspec": {
   "display_name": "Python 3 (ipykernel)",
   "language": "python",
   "name": "python3"
  },
  "language_info": {
   "codemirror_mode": {
    "name": "ipython",
    "version": 3
   },
   "file_extension": ".py",
   "mimetype": "text/x-python",
   "name": "python",
   "nbconvert_exporter": "python",
   "pygments_lexer": "ipython3",
   "version": "3.8.8"
  }
 },
 "nbformat": 4,
 "nbformat_minor": 5
}
