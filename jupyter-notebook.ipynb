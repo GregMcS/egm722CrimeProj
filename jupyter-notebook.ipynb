{
 "cells": [
  {
   "cell_type": "markdown",
   "id": "62efc28a",
   "metadata": {},
   "source": [
    "    Install modules"
   ]
  },
  {
   "cell_type": "code",
   "execution_count": null,
   "id": "4e4c7fe0",
   "metadata": {},
   "outputs": [],
   "source": [
    "import geopandas as gpd #gpd for creating geodatabases, tables with geometry data\n",
    "import matplotlib.pyplot as plt \n",
    "import pandas as pd\n",
    "import shapely\n",
    "import cartopy.crs as ccrs\n",
    "\n",
    "from cartopy.feature import ShapelyFeature\n",
    "from shapely.geometry import Point"
   ]
  },
  {
   "cell_type": "markdown",
   "id": "3397f030",
   "metadata": {},
   "source": [
    "Load crime data data "
   ]
  },
  {
   "cell_type": "code",
   "execution_count": null,
   "id": "8cd1fbf5",
   "metadata": {},
   "outputs": [],
   "source": [
    "crime = gpd.read_file('crimeDataEdit3.csv') #crime data csv\n",
    "crime.crs = 'epsg:27700'\n",
    "crime.head "
   ]
  },
  {
   "cell_type": "markdown",
   "id": "96c97497",
   "metadata": {},
   "source": [
    "Load parish data"
   ]
  },
  {
   "cell_type": "code",
   "execution_count": null,
   "id": "76db8d9c",
   "metadata": {},
   "outputs": [],
   "source": [
    "parishes = gpd.read_file('parishBound.csv') #csv with wkt for parish boundaries\n",
    "parishes.crs = 'epsg:27700'\n",
    "parishes.head"
   ]
  },
  {
   "cell_type": "markdown",
   "id": "fed7a64d",
   "metadata": {},
   "source": [
    "Convert dataframe to geodataframe with geometry values. MAY NOT BE NEEDED"
   ]
  },
  {
   "cell_type": "code",
   "execution_count": null,
   "id": "98df4e40",
   "metadata": {},
   "outputs": [],
   "source": [
    "#crime = geopandas.GeoDataFrame(\n",
    "    #df, geometry=geopandas.points_from_xy(df.X, df.Y))\n",
    "#crime.crs = 'epsg:27700'\n",
    "#crime.head"
   ]
  },
  {
   "cell_type": "markdown",
   "id": "34603351",
   "metadata": {},
   "source": [
    "Test gdf have same crs"
   ]
  },
  {
   "cell_type": "code",
   "execution_count": null,
   "id": "f06d81db",
   "metadata": {},
   "outputs": [],
   "source": [
    "print(crime.crs == parishes.crs)"
   ]
  },
  {
   "cell_type": "markdown",
   "id": "6e242dac",
   "metadata": {},
   "source": [
    "Display gdf layer"
   ]
  },
  {
   "cell_type": "code",
   "execution_count": null,
   "id": "cc732649",
   "metadata": {},
   "outputs": [],
   "source": [
    "f, ax = plt.subplots(1, figsize=(12, 12))\n",
    "ax = parishes.plot(ax=ax, alpha=0.8) #adjust alpha value to change colour intensity\n",
    "#ax.set_axis_off()  #uncomment this line to remove national grid numbers\n",
    "f.suptitle('Suffolk Parishes')\n",
    "plt.show() "
   ]
  },
  {
   "cell_type": "markdown",
   "id": "8de7298e",
   "metadata": {},
   "source": [
    "Load a single parish using row number"
   ]
  },
  {
   "cell_type": "code",
   "execution_count": null,
   "id": "a26e7234",
   "metadata": {},
   "outputs": [],
   "source": [
    "parishes.loc[0, 'geometry'] #adjust number to select parish"
   ]
  },
  {
   "cell_type": "markdown",
   "id": "c32f5d3a",
   "metadata": {},
   "source": [
    "Plot data to scattergraph showing grid references. "
   ]
  },
  {
   "cell_type": "code",
   "execution_count": null,
   "id": "3aa75b09",
   "metadata": {},
   "outputs": [],
   "source": [
    "crime.plot(figsize=(12,10))"
   ]
  },
  {
   "cell_type": "markdown",
   "id": "52de63b6",
   "metadata": {},
   "source": [
    "Clip the crime gdf data to the parish gdf so it only shows crimes taking place in Suffolk Parishes"
   ]
  },
  {
   "cell_type": "code",
   "execution_count": null,
   "id": "407e3606",
   "metadata": {},
   "outputs": [],
   "source": [
    "clipped = []\n",
    "for parish in parishes['Parish'].unique():\n",
    "    tmp_clip = gpd.clip(crime, parishes[parishes['Parish'] == parish])\n",
    "    clipped.append(tmp_clip)\n",
    "\n",
    "clipped_gdf = gpd.GeoDataFrame(pd.concat(clipped))\n",
    "clip_total = clipped_gdf.count()\n",
    "\n",
    "clip_total"
   ]
  },
  {
   "cell_type": "markdown",
   "id": "66a710e6",
   "metadata": {},
   "source": [
    "Rename clipped_gdf to crimes and set CRS to 27700. Display clipped crime scattergraph"
   ]
  },
  {
   "cell_type": "code",
   "execution_count": null,
   "id": "41ee99d7",
   "metadata": {},
   "outputs": [],
   "source": [
    "crimes = clipped_gdf\n",
    "crimes.crs = 'epsg:27700'\n",
    "crimes.plot(figsize=(12,10));"
   ]
  },
  {
   "cell_type": "markdown",
   "id": "6e3b7b8b",
   "metadata": {},
   "source": [
    "Plot clipped crime points over parish map"
   ]
  },
  {
   "cell_type": "code",
   "execution_count": null,
   "id": "56d9a391",
   "metadata": {},
   "outputs": [],
   "source": [
    "base = parishes.plot(figsize = (20,18), color='white', edgecolor='black')\n",
    "\n",
    "crimes.plot(ax=base, marker='d', color='blue', markersize=5)\n",
    "\n"
   ]
  },
  {
   "cell_type": "markdown",
   "id": "9e480347",
   "metadata": {},
   "source": [
    "Join the two tables, crimes and parish"
   ]
  },
  {
   "cell_type": "code",
   "execution_count": null,
   "id": "8a5ffee9",
   "metadata": {},
   "outputs": [],
   "source": [
    "join = gpd.sjoin(parishes, crimes, how='inner', lsuffix='left', rsuffix='right') # perform the spatial join\n",
    "join # show the joined table"
   ]
  },
  {
   "cell_type": "markdown",
   "id": "52462981",
   "metadata": {},
   "source": [
    "Select crime type by parish."
   ]
  },
  {
   "cell_type": "code",
   "execution_count": null,
   "id": "b9d7e932",
   "metadata": {},
   "outputs": [],
   "source": [
    "crime_stats = join.groupby(['Parish', 'Crime_type']).count()\n",
    "print(crime_stats.loc['Sproughton CP']) #Edit to select parish of interest"
   ]
  },
  {
   "cell_type": "markdown",
   "id": "2792bbc1",
   "metadata": {},
   "source": [
    "Display the overall number of crimes per parish"
   ]
  },
  {
   "cell_type": "code",
   "execution_count": null,
   "id": "a93ea7d3",
   "metadata": {},
   "outputs": [],
   "source": [
    "print(join.groupby(['Parish'])['Crime_type'].count())"
   ]
  },
  {
   "cell_type": "markdown",
   "id": "ed766dda",
   "metadata": {},
   "source": [
    "Generate Choropleth map of crimes report by parish"
   ]
  },
  {
   "cell_type": "code",
   "execution_count": null,
   "id": "2a5cce37",
   "metadata": {},
   "outputs": [],
   "source": [
    "polygons = parishes\n",
    "polygon_id_field = 'OBJECTID'\n",
    "points = crimes\n",
    "points.crs = 'epsg:27700'\n",
    "\n",
    "sjoin = gpd.sjoin(parishes, crimes, how='left', predicate='contains')\n",
    "count = sjoin.groupby(polygon_id_field)[polygon_id_field].count()\n",
    "count.name='pointcount'\n",
    "polygons = pd.merge(left=polygons, right=count, left_on=polygon_id_field, right_index=True)\n",
    "\n",
    "fig, ax = plt.subplots(figsize = (20,18))\n",
    "polygons.plot(column = 'pointcount', cmap = 'Spectral_r', ax=ax, legend=True,\n",
    "              legend_kwds={'label':'Number of crimes reported'})\n",
    "polygons.geometry.boundary.plot(color=None, edgecolor='k',linewidth = 1, ax=ax)"
   ]
  },
  {
   "cell_type": "markdown",
   "id": "74ffd187",
   "metadata": {},
   "source": [
    "Reproduce Parish map, clipped crimes map, and choropleth map."
   ]
  }
 ],
 "metadata": {
  "kernelspec": {
   "display_name": "Python 3 (ipykernel)",
   "language": "python",
   "name": "python3"
  },
  "language_info": {
   "codemirror_mode": {
    "name": "ipython",
    "version": 3
   },
   "file_extension": ".py",
   "mimetype": "text/x-python",
   "name": "python",
   "nbconvert_exporter": "python",
   "pygments_lexer": "ipython3",
   "version": "3.8.8"
  }
 },
 "nbformat": 4,
 "nbformat_minor": 5
}
