{
 "cells": [
  {
   "cell_type": "markdown",
   "id": "62efc28a",
   "metadata": {},
   "source": [
    "    Install modules"
   ]
  },
  {
   "cell_type": "code",
   "execution_count": 62,
   "id": "4e4c7fe0",
   "metadata": {},
   "outputs": [],
   "source": [
    "import rasterio\n",
    "import numpy as np\n",
    "import numpy.random\n",
    "import matplotlib.pyplot as plt\n",
    "import csv\n",
    "from scipy.ndimage import gaussian_filter\n",
    "\n",
    "from rasterio.plot import show"
   ]
  },
  {
   "cell_type": "markdown",
   "id": "f61ea7fb",
   "metadata": {},
   "source": [
    "Load data "
   ]
  },
  {
   "cell_type": "code",
   "execution_count": 66,
   "id": "d0cc4af5",
   "metadata": {},
   "outputs": [
    {
     "ename": "SyntaxError",
     "evalue": "invalid syntax (4174930716.py, line 1)",
     "output_type": "error",
     "traceback": [
      "\u001b[1;36m  Input \u001b[1;32mIn [66]\u001b[1;36m\u001b[0m\n\u001b[1;33m    with open(input(\"'C:/GIS_Course/EGM_722_Programming_for_GIS/ProjectData/crimeData/2022-02/crimeDataEdit.csv': \", \"r\") as lst:\u001b[0m\n\u001b[1;37m                                                                                                                          ^\u001b[0m\n\u001b[1;31mSyntaxError\u001b[0m\u001b[1;31m:\u001b[0m invalid syntax\n"
     ]
    }
   ],
   "source": [
    "with open(input(\"'C:/GIS_Course/EGM_722_Programming_for_GIS/ProjectData/crimeData/2022-02/crimeDataEdit.csv': \", \"r\") as lst:\n",
    "   print(medianStrat(lst.readlines()))"
   ]
  },
  {
   "cell_type": "code",
   "execution_count": 65,
   "id": "64a14fb0",
   "metadata": {},
   "outputs": [
    {
     "ename": "TypeError",
     "evalue": "'_io.TextIOWrapper' object is not subscriptable",
     "output_type": "error",
     "traceback": [
      "\u001b[1;31m---------------------------------------------------------------------------\u001b[0m",
      "\u001b[1;31mTypeError\u001b[0m                                 Traceback (most recent call last)",
      "Input \u001b[1;32mIn [65]\u001b[0m, in \u001b[0;36m<cell line: 20>\u001b[1;34m()\u001b[0m\n\u001b[0;32m     16\u001b[0m     rows\u001b[38;5;241m.\u001b[39mappend(row) \u001b[38;5;66;03m#add data from cd to rows list\u001b[39;00m\n\u001b[0;32m     17\u001b[0m \u001b[38;5;66;03m#rows #show rows\u001b[39;00m\n\u001b[1;32m---> 20\u001b[0m plt\u001b[38;5;241m.\u001b[39mscatter(x\u001b[38;5;241m=\u001b[39m\u001b[43mcd\u001b[49m\u001b[43m[\u001b[49m\u001b[38;5;124;43m'\u001b[39;49m\u001b[38;5;124;43mLongitude\u001b[39;49m\u001b[38;5;124;43m'\u001b[39;49m\u001b[43m]\u001b[49m, y\u001b[38;5;241m=\u001b[39mcd[\u001b[38;5;124m'\u001b[39m\u001b[38;5;124mLatitude\u001b[39m\u001b[38;5;124m'\u001b[39m])\n\u001b[0;32m     21\u001b[0m plt\u001b[38;5;241m.\u001b[39mshow()\n\u001b[0;32m     22\u001b[0m \u001b[38;5;66;03m#heatmap, xedges, yedges = np.histogram2d(x, y, bins=(50, 50)) #takes X,Y data and creates a histogram in a 500,650 box\u001b[39;00m\n\u001b[0;32m     23\u001b[0m \u001b[38;5;66;03m#extent = [xedges[0], xedges[-1], yedges[0], yedges[-1]] #fixes extent of the heatmap to the extent of the X,Y data\u001b[39;00m\n",
      "\u001b[1;31mTypeError\u001b[0m: '_io.TextIOWrapper' object is not subscriptable"
     ]
    }
   ],
   "source": [
    "\n",
    "#with open('C:/GIS_Course/EGM_722_Programming_for_GIS/ProjectData/crimeData/2022-02/crimeDataEdit.csv', newline='') as cd:\n",
    "    #reader = csv.reader(cd)\n",
    "    #data = list(reader)\n",
    "\n",
    "#print(data)\n",
    "\n",
    "cd = open('C:/GIS_Course/EGM_722_Programming_for_GIS/ProjectData/crimeData/2022-02/crimeDataEdit.csv')\n",
    "reader = csv.reader(cd) #loads the crimeData as cd\n",
    "\n",
    "header = [] #create empty list called header\n",
    "header = next(reader) #read column names from cd and add to header\n",
    "#header #show header\n",
    "\n",
    "rows = [] #create empty list called rows\n",
    "for row in reader: #iterate over row in cd\n",
    "    rows.append(row) #add data from cd to rows list\n",
    "#rows #show rows\n",
    "\n",
    "\n",
    "plt.scatter(x=cd['Longitude'], y=cd['Latitude'])\n",
    "plt.show()\n",
    "#heatmap, xedges, yedges = np.histogram2d(x, y, bins=(50, 50)) #takes X,Y data and creates a histogram in a 500,650 box\n",
    "#extent = [xedges[0], xedges[-1], yedges[0], yedges[-1]] #fixes extent of the heatmap to the extent of the X,Y data\n",
    "\n",
    "plt.clf()\n",
    "plt.imshow(heatmap.T, extent=extent, origin='lower')\n",
    "plt.show()"
   ]
  }
 ],
 "metadata": {
  "kernelspec": {
   "display_name": "Python 3 (ipykernel)",
   "language": "python",
   "name": "python3"
  },
  "language_info": {
   "codemirror_mode": {
    "name": "ipython",
    "version": 3
   },
   "file_extension": ".py",
   "mimetype": "text/x-python",
   "name": "python",
   "nbconvert_exporter": "python",
   "pygments_lexer": "ipython3",
   "version": "3.8.8"
  }
 },
 "nbformat": 4,
 "nbformat_minor": 5
}
